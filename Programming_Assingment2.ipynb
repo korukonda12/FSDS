{
 "cells": [
  {
   "cell_type": "markdown",
   "metadata": {},
   "source": [
    "### 1.\tWrite a Python program to convert kilometers to miles?"
   ]
  },
  {
   "cell_type": "code",
   "execution_count": 9,
   "metadata": {},
   "outputs": [
    {
     "name": "stdout",
     "output_type": "stream",
     "text": [
      "Enter the kilometers: KM 250\n",
      "Miles: 155.34275\n"
     ]
    }
   ],
   "source": [
    "# 1km is equal to 0.621371 miles\n",
    "n = int(input('Enter the kilometers: KM '))\n",
    "miles = n * 0.621371\n",
    "print('Miles:', miles)"
   ]
  },
  {
   "cell_type": "markdown",
   "metadata": {},
   "source": [
    "### 2.\tWrite a Python program to convert Celsius to Fahrenheit?"
   ]
  },
  {
   "cell_type": "code",
   "execution_count": 10,
   "metadata": {},
   "outputs": [
    {
     "name": "stdout",
     "output_type": "stream",
     "text": [
      "Enter the Celsius Value: C 38\n",
      "Celsius to Fahrenheit convertion: f 100.4\n"
     ]
    }
   ],
   "source": [
    "# formula for Celsius to Fahrenheit is (n*9/5)+32\n",
    "c = int(input('Enter the Celsius Value: C '))\n",
    "f = (c * 9/5) + 32\n",
    "print ('Celsius to Fahrenheit convertion: f',f)"
   ]
  },
  {
   "cell_type": "markdown",
   "metadata": {},
   "source": [
    "### 3.\tWrite a Python program to display calendar?"
   ]
  },
  {
   "cell_type": "code",
   "execution_count": 12,
   "metadata": {},
   "outputs": [],
   "source": [
    "import calendar"
   ]
  },
  {
   "cell_type": "code",
   "execution_count": 13,
   "metadata": {},
   "outputs": [
    {
     "name": "stdout",
     "output_type": "stream",
     "text": [
      "Enter the Year:2021\n",
      "Enter the month7\n",
      "     July 2021\n",
      "Mo Tu We Th Fr Sa Su\n",
      "          1  2  3  4\n",
      " 5  6  7  8  9 10 11\n",
      "12 13 14 15 16 17 18\n",
      "19 20 21 22 23 24 25\n",
      "26 27 28 29 30 31\n",
      "\n"
     ]
    }
   ],
   "source": [
    "#Year\n",
    "year = int(input('Enter the Year:'))\n",
    "yy = year\n",
    "#Month\n",
    "month = int(input('Enter the month'))\n",
    "mm = month\n",
    "#Display the Calendar\n",
    "print(calendar.month(yy,mm))"
   ]
  },
  {
   "cell_type": "markdown",
   "metadata": {},
   "source": [
    "### 4.\tWrite a Python program to solve quadratic equation?"
   ]
  },
  {
   "cell_type": "code",
   "execution_count": 15,
   "metadata": {},
   "outputs": [],
   "source": [
    "#quadratic equation ax^2 + bx + c = 0, we need calculate x = (-b+-(sqrt(b^2-4ac))) / 2a"
   ]
  },
  {
   "cell_type": "code",
   "execution_count": 16,
   "metadata": {},
   "outputs": [],
   "source": [
    "import math"
   ]
  },
  {
   "cell_type": "code",
   "execution_count": 18,
   "metadata": {},
   "outputs": [
    {
     "name": "stdout",
     "output_type": "stream",
     "text": [
      "Enter value of a:10\n",
      "Enter value of b:25\n",
      "Enter value of c:4\n",
      "Real and different roots\n",
      "-0.1718070673576088\n",
      "-2.3281929326423914\n"
     ]
    }
   ],
   "source": [
    "#Lets take input for a,b,c\n",
    "a = int(input('Enter value of a:'))\n",
    "b = int(input('Enter value of b:'))\n",
    "c = int(input('Enter value of c:'))\n",
    "\n",
    "# lets define a function to calculate roots\n",
    "\n",
    "def equiroots(a,b,c):\n",
    "    #cal discriminant using formula\n",
    "    dis = (b*b) - (4*a*c)\n",
    "    #square root for dis\n",
    "    sqrt_val = math.sqrt(abs(dis))\n",
    "    \n",
    "    #checking conditions wrt to 'dis' value\n",
    "    if dis > 0:\n",
    "        print('Real and different roots')\n",
    "        print((-b + sqrt_val)/(2 * a))\n",
    "        print((-b - sqrt_val)/(2 * a))\n",
    "    \n",
    "    elif dis == 0:\n",
    "        print('real and same roots')\n",
    "        print(-b / 2)\n",
    "        \n",
    "    #dis < 0    \n",
    "    else:\n",
    "        print('complex roots')\n",
    "        print(- b / (2 * a), \" + i\", sqrt_val)\n",
    "        print(- b / (2 * a), \" - i\", sqrt_val)\n",
    "        \n",
    "if a == 0:\n",
    "    print('Incorrect equation')\n",
    "\n",
    "else:\n",
    "    equiroots(a,b,c)    \n"
   ]
  },
  {
   "cell_type": "markdown",
   "metadata": {},
   "source": [
    "### 5.\tWrite a Python program to swap two variables without temp variable?"
   ]
  },
  {
   "cell_type": "code",
   "execution_count": 19,
   "metadata": {},
   "outputs": [],
   "source": [
    "a = 5\n",
    "b = 6"
   ]
  },
  {
   "cell_type": "code",
   "execution_count": 20,
   "metadata": {},
   "outputs": [],
   "source": [
    "a,b = b,a"
   ]
  },
  {
   "cell_type": "code",
   "execution_count": 21,
   "metadata": {},
   "outputs": [
    {
     "data": {
      "text/plain": [
       "6"
      ]
     },
     "execution_count": 21,
     "metadata": {},
     "output_type": "execute_result"
    }
   ],
   "source": [
    "a"
   ]
  },
  {
   "cell_type": "code",
   "execution_count": 22,
   "metadata": {},
   "outputs": [
    {
     "data": {
      "text/plain": [
       "5"
      ]
     },
     "execution_count": 22,
     "metadata": {},
     "output_type": "execute_result"
    }
   ],
   "source": [
    "b"
   ]
  },
  {
   "cell_type": "code",
   "execution_count": null,
   "metadata": {},
   "outputs": [],
   "source": []
  }
 ],
 "metadata": {
  "kernelspec": {
   "display_name": "Python 3",
   "language": "python",
   "name": "python3"
  },
  "language_info": {
   "codemirror_mode": {
    "name": "ipython",
    "version": 3
   },
   "file_extension": ".py",
   "mimetype": "text/x-python",
   "name": "python",
   "nbconvert_exporter": "python",
   "pygments_lexer": "ipython3",
   "version": "3.8.5"
  }
 },
 "nbformat": 4,
 "nbformat_minor": 4
}
